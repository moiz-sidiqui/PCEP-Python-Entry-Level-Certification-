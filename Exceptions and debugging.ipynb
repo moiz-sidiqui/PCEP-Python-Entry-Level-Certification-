{
 "cells": [
  {
   "cell_type": "markdown",
   "id": "1f9b60d7-1d50-4b65-8742-4742f3d0778d",
   "metadata": {},
   "source": [
    "## Exceptions and debugging"
   ]
  },
  {
   "cell_type": "markdown",
   "id": "31020c90-72e0-43da-9e98-242fae567190",
   "metadata": {},
   "source": [
    "1. An exception is an event caused by an execution error which can induce program termination if not properly handled by the programmer. The situation in which the exception is created and propagated is called raising the exception.\n",
    "\n",
    "2. Python professes its philosophy expressed with the sentence: It's better to beg for forgiveness than ask for permission. The recommendation hidden behind these words says that the programmer should allow the exceptions to occur and handle them properly instead of persistently avoiding problems and protecting the code from all possible errors with all their might.\n",
    "\n",
    "3. To control exceptions and to handle them, Python provides a dedicated construction consisting of the try and except branches.\n",
    "\n",
    "4. The try block encloses a part of the code that may cause an exception and when it happens, the execution of the block is terminated and the control jumps into the except block, which is dedicated to recognizing the problem and handling it. For example, the following snippet prints PROCEEDING even though the code provokes division by zero:"
   ]
  },
  {
   "cell_type": "code",
   "execution_count": 1,
   "id": "4fe40ab9-9ca8-4ea3-99f6-86de4c886703",
   "metadata": {},
   "outputs": [
    {
     "name": "stdout",
     "output_type": "stream",
     "text": [
      "PROCEEDING\n"
     ]
    }
   ],
   "source": [
    "try:\n",
    "    x = 1 / 0\n",
    "except:\n",
    "    x = None\n",
    "print('PROCEEDING')"
   ]
  },
  {
   "cell_type": "markdown",
   "id": "e8e04f0f-8f77-4e80-963d-fcc152a55b4e",
   "metadata": {},
   "source": [
    "5. Here is a list of the most common Python exceptions:\n",
    "\n",
    "    ZeroDivisionError: raised by a division in which the divider is zero or is indistinguishable from zero (/, //, and %)\n",
    "   \n",
    "    ValueError: raised by the use of values that are inappropriate in the current context, for example, when a function receives an argument of a proper type, but its value is unacceptable, for example, int('')\n",
    "   \n",
    "    TypeError: raised by attempts to apply data of a type which cannot be accepted in the current context, for example, int(None)\n",
    "   \n",
    "    AttributeError: raised – among other occasions – when the code tries to activate a method that doesn't exist in a certain item, for example, the_list.apend() (note the typo!)\n",
    "   \n",
    "    SyntaxError: raised when the control reaches a line of code that violates Python's grammar, and which has remained undetected until now;\n",
    "   \n",
    "    NameError: raised when the code attempts to make use of a non-existent (not previously defined) item, for example, a variable or a function."
   ]
  },
  {
   "cell_type": "markdown",
   "id": "e2626fc4-2ec1-4b4c-96bc-c26471d4e728",
   "metadata": {},
   "source": [
    "6. When more than one exception is expected inside the try block and these different exceptions require different handling, another syntax is used where there is more than one named except branch. The unnamed (anonymous) except branch is the default one, and is responsible for servicing these exceptions which still need to be handled.\n",
    "\n",
    "7. Not more than one except branch can be executed.\n",
    "\n",
    "8. The default except branch – if it exists – must be the last branch.\n",
    "\n",
    "9. For example, the following snippet outputs NAN when the user enters a string that is not an integer number, ZERO when the user enters 0, and ERR in the case of another error:"
   ]
  },
  {
   "cell_type": "code",
   "execution_count": 2,
   "id": "73bab32d-fa28-4dd6-8eca-b9e69181d43f",
   "metadata": {},
   "outputs": [
    {
     "name": "stdin",
     "output_type": "stream",
     "text": [
      "Enter a number:  0\n"
     ]
    },
    {
     "name": "stdout",
     "output_type": "stream",
     "text": [
      "ZERO\n"
     ]
    }
   ],
   "source": [
    "try:\n",
    "    print(1 / int(input(\"Enter a number: \")))\n",
    "except ValueError:\n",
    "    print('NAN')\n",
    "except ZeroDivisionError:\n",
    "    print('ZERO')\n",
    "except:\n",
    "    print('ERR')"
   ]
  },
  {
   "cell_type": "markdown",
   "id": "8beaa99d-d039-4ff4-9d67-6d8664bfd249",
   "metadata": {},
   "source": [
    "10. An error existing in the code is commonly called a bug.\n",
    "\n",
    "11. The process by which bugs are detected and removed from the code is called debugging.\n",
    "\n",
    "12. The tool which allows the programmer to run the code in a fully controllable environment is called a debugger.\n",
    "\n",
    "13. The 'print debugging' technique is a trivial debugging technique in which the programmer adds some print() function invocations which help to trace execution paths and output the values of selected critical variables.\n",
    "\n",
    "14. The process in which the code is probed to ensure that it will behave correctly in a production environment is called testing. The testing should prove that all execution paths have been executed and caused no errors.\n",
    "\n",
    "15. The programming technique in which the tests and test data are created before the code is written or created in parallel with the code is called unit testing. It is assumed that every code amendment (even the most trivial) is followed by the execution of all previously defined tests."
   ]
  },
  {
   "cell_type": "code",
   "execution_count": null,
   "id": "863557f8-da28-467b-844b-d869a0b9fb40",
   "metadata": {},
   "outputs": [],
   "source": []
  }
 ],
 "metadata": {
  "kernelspec": {
   "display_name": "Python 3 (ipykernel)",
   "language": "python",
   "name": "python3"
  },
  "language_info": {
   "codemirror_mode": {
    "name": "ipython",
    "version": 3
   },
   "file_extension": ".py",
   "mimetype": "text/x-python",
   "name": "python",
   "nbconvert_exporter": "python",
   "pygments_lexer": "ipython3",
   "version": "3.12.4"
  }
 },
 "nbformat": 4,
 "nbformat_minor": 5
}
