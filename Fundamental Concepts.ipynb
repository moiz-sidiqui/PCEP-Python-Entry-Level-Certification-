{
 "cells": [
  {
   "cell_type": "markdown",
   "id": "80071980-c6f3-4474-aa24-217a3d27e4ac",
   "metadata": {},
   "source": [
    "## Understanding Fundamental Concepts"
   ]
  },
  {
   "cell_type": "markdown",
   "id": "4d07a687-0576-47ac-a049-3d5f75ddf4d8",
   "metadata": {},
   "source": [
    "1. A language is a means (and a tool) for expressing and recording thoughts.\n"
   ]
  },
  {
   "cell_type": "markdown",
   "id": "4567c039-c1db-40ff-b36a-bf0cc7b70eeb",
   "metadata": {},
   "source": [
    "2. A natural language is a language people use to communicate with each other in everyday life. English, Russian, German, Swahili, and Hindi are examples of natural languages."
   ]
  },
  {
   "cell_type": "markdown",
   "id": "d4ed1536-9f6d-4bd7-9522-5960ce580714",
   "metadata": {},
   "source": [
    "3. A programming language is a language developed by humans and used to communicate with computers. A programming language has a set of means to instruct a computer what to do and how.\n"
   ]
  },
  {
   "cell_type": "markdown",
   "id": "37ccb65e-c0bb-482e-8389-b98464373266",
   "metadata": {},
   "source": [
    "4. A high-level programming language is a programming language which operates on a high level of abstraction thereby allowing the developer to ignore the physical details of the computer's hardware, for example the CPU type, memory size and organization, etc. Python, JavaScript, and C/C++ are all examples of high-level programming languages."
   ]
  },
  {
   "cell_type": "markdown",
   "id": "9411284d-3560-4cef-91e9-8a2e4c50043c",
   "metadata": {},
   "source": [
    "5. A machine language is a language placed at the lowest level of computer programming. It's a sequence of bits (binary digits usually recognized as 0 and 1) which directly forces the CPU to execute the desired elementary operations."
   ]
  },
  {
   "cell_type": "markdown",
   "id": "a73f5087-8385-470d-ba93-59dbe3a4b885",
   "metadata": {},
   "source": [
    "6. An instruction list (abbreviated to IL) is a list of all elementary (atomic) operations which can be executed by a certain CPU. For example, x86 (used in personal computers) and arm (used in mobile devices) processors have different and incompatible instr"
   ]
  },
  {
   "cell_type": "markdown",
   "id": "513a70a5-6b91-463f-aef9-6dcf8261725e",
   "metadata": {},
   "source": [
    "7. A source code is a text encoded in any of the programming languages (regardless of the language's level). Usually, the source code is put inside a text file which resides inside the developer's computer filesystem, while the file name's extension reveals the programming language used to write the code (for example, files with names which ends with .py contain Python source code, while the .cpp extension marks files which hold C++ (usually pronounced as see-plus-plus) source code.\n"
   ]
  },
  {
   "cell_type": "markdown",
   "id": "06576e83-0828-4112-a835-38de4bef9866",
   "metadata": {},
   "source": [
    "8. Any language (no matter if it's natural or artificial) is constituted by:\n",
    "an alphabet understood as a set of symbols used to build words of a certain language (e.g. the Latin alphabet for English, the Cyrillic alphabet for Russian, Kanji for Japanese, and so on).\n",
    "a lexis, also known as a dictionary, is a set of words the language offers its users (for example, the word \"chat\" is present both in English and French dictionaries, but its meaning is obviously different).\n",
    "syntax is a set of rules used to determine if a certain sequence of words forms a valid sentence.\n",
    "semantics is defined as a set of rules which settle whether or not a certain phrase or sentence makes sense in a given language."
   ]
  },
  {
   "cell_type": "markdown",
   "id": "8ca51e97-b9fd-4f22-8c3f-02ef968853ed",
   "metadata": {},
   "source": [
    "9. A source code cannot be directly executed by a computer. To make it possible the source code has to be translated into a machine code accepted by a target computer and its CPU. This task can be done using two different techniques:\n",
    "compilation performed by a one-time translation of the source program; an executable binary file is created in effect – the file can be run at any time without the need to have the source code; the program that performs the above translation is called a compiler or translator.\n",
    "interpretation which involves a dedicated program designed to translate the source program on-the-fly each time it has to be run; the program performing this task is called an interpreter; this means that the interpreter is needed whenever the source code has to be executed.\n"
   ]
  },
  {
   "cell_type": "markdown",
   "id": "102e940c-3b0f-4009-a67f-4e6bde40df37",
   "metadata": {},
   "source": [
    "10. A specific programming language is designed to be the object of either compilation or interpretation (this choice imposes certain distinctive features onto the language). For example, Python is an interpreted programming language, while C++ is a compiled one.\n"
   ]
  },
  {
   "cell_type": "markdown",
   "id": "89a445d5-805e-438d-bc9c-0662b1131ee3",
   "metadata": {},
   "source": [
    "11. The interpreter and its environment, created and distributed by the Python Software Foundation (PSF) is written mostly in the C programming language. It allows Python to be easily ported and migrated to all platforms providing the ability to compile and run C language programs. This is also why the PSF implementation is often referred to as CPython. CPython is the most widely used implementation of Python.\n"
   ]
  }
 ],
 "metadata": {
  "kernelspec": {
   "display_name": "Python 3 (ipykernel)",
   "language": "python",
   "name": "python3"
  },
  "language_info": {
   "codemirror_mode": {
    "name": "ipython",
    "version": 3
   },
   "file_extension": ".py",
   "mimetype": "text/x-python",
   "name": "python",
   "nbconvert_exporter": "python",
   "pygments_lexer": "ipython3",
   "version": "3.12.4"
  }
 },
 "nbformat": 4,
 "nbformat_minor": 5
}
