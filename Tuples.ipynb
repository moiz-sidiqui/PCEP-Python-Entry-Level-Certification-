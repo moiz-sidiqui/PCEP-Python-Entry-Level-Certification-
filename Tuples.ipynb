{
 "cells": [
  {
   "cell_type": "markdown",
   "id": "0c6aadba-dece-42d7-92a4-7c0c4fe6ebb3",
   "metadata": {},
   "source": [
    "## Tuples"
   ]
  },
  {
   "cell_type": "markdown",
   "id": "dcee91bd-24a5-4baf-b6d0-c163ec38ec9d",
   "metadata": {},
   "source": [
    "1. A tuple, like a list, is a data aggregate that contains a certain number (including zero) of elements of any type. Tuples, like lists, are sequences, but they are immutable. You're not allowed to change any of the tuple elements, or add a new element, or remove an existing element. Attempting to break this rule will raise the TypeError exception.\n",
    "\n",
    "2. Tuples can be initialized with tuple literals. For example, these assignments instantiate three tuples – one empty, one one-element, and one two-element:\n"
   ]
  },
  {
   "cell_type": "code",
   "execution_count": 2,
   "id": "a2d9d638-395c-4f44-8a44-2c14827f6f1f",
   "metadata": {},
   "outputs": [],
   "source": [
    "empty_tuple = () # tuple() has the same meaning\n",
    "#one_element_tuple = tuple(1) # must not be replaced with (1)!\n",
    "one_element_tuple = 1, # the same effect as above\n",
    "two_element_tuple = (1, 2.5)\n",
    "two_element_tuple = 1, 2.5 # the same effect as above\n"
   ]
  },
  {
   "cell_type": "markdown",
   "id": "c3e40b1f-8fcb-4430-b50d-b8ea4c5ceb24",
   "metadata": {},
   "source": [
    "3. The number of elements contained in the tuple can be determined by the len() function. For example, the following snippet prints 4 to the screen:"
   ]
  },
  {
   "cell_type": "code",
   "execution_count": 4,
   "id": "f018eaa4-d848-4e12-afff-8f7f39c7eaeb",
   "metadata": {},
   "outputs": [
    {
     "name": "stdout",
     "output_type": "stream",
     "text": [
      "4\n"
     ]
    }
   ],
   "source": [
    "print(len((1, 2.2, '3', True)))"
   ]
  },
  {
   "cell_type": "markdown",
   "id": "fdbc9fe2-a09f-4aa2-ac68-02d959ce0536",
   "metadata": {},
   "source": [
    "    Note the inner pair of parentheses – they cannot be omitted, as it will cause the tuple to be replaced with four independent values and will cause an error.\n",
    "\n",
    "4. Any of the tuple's elements can be accessed using indexing, which works in the same manner as in lists, including slicing.\n",
    "\n",
    "5. An attempt to access a non-existent tuple element raises the IndexError exception.\n",
    "\n",
    "6. If any of the slice's indices exceeds the permissible range, no exception is raised, and the non-existent elements are not taken into consideration. Therefore, the resulting slice may be an empty tuple. For example, the following snippet outputs () to the screen:"
   ]
  },
  {
   "cell_type": "code",
   "execution_count": 6,
   "id": "0c6becdb-ecb9-4c34-b1b5-01d511c3152a",
   "metadata": {},
   "outputs": [
    {
     "name": "stdout",
     "output_type": "stream",
     "text": [
      "()\n"
     ]
    }
   ],
   "source": [
    "print((1,2,3)[4:5])"
   ]
  },
  {
   "cell_type": "markdown",
   "id": "e931b30c-12ed-4b54-a7f0-fa768e7350c1",
   "metadata": {},
   "source": [
    "7. The in and not in operators can check whether or not any value is contained inside the tuple.\n",
    "\n",
    "8. Tuples can be iterated through (traversed) by the for loop, like lists.\n",
    "\n",
    "9. The + operator joins tuples together.\n",
    "\n",
    "10. The * operator multiplies tuples, just like lists."
   ]
  },
  {
   "cell_type": "code",
   "execution_count": null,
   "id": "560afbcc-d832-484b-b608-f2eb60df9392",
   "metadata": {},
   "outputs": [],
   "source": []
  }
 ],
 "metadata": {
  "kernelspec": {
   "display_name": "Python 3 (ipykernel)",
   "language": "python",
   "name": "python3"
  },
  "language_info": {
   "codemirror_mode": {
    "name": "ipython",
    "version": 3
   },
   "file_extension": ".py",
   "mimetype": "text/x-python",
   "name": "python",
   "nbconvert_exporter": "python",
   "pygments_lexer": "ipython3",
   "version": "3.12.4"
  }
 },
 "nbformat": 4,
 "nbformat_minor": 5
}
