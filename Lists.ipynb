{
 "cells": [
  {
   "cell_type": "markdown",
   "id": "61856c5c-2bb4-4128-bf8d-cfae19b02fc0",
   "metadata": {},
   "source": [
    "## Lists"
   ]
  },
  {
   "cell_type": "markdown",
   "id": "c8435a56-5451-42c1-87be-14b85095b612",
   "metadata": {},
   "source": [
    "1. A list is a data aggregate that contains a certain number (including zero) of elements of any type.\n",
    "\n",
    "2. Lists are sequences – they can be iterated, and the order of the elements is established.\n",
    "\n",
    "3. Lists are mutable – their contents may be changed.\n",
    "\n",
    "4. Lists can be initialized with list literals. For example, these two assignments instantiate two lists – the former is empty, while the latter contains three elements:"
   ]
  },
  {
   "cell_type": "code",
   "execution_count": 1,
   "id": "380d0bd2-a9b4-48d5-a1cb-e0e8a1268881",
   "metadata": {},
   "outputs": [],
   "source": [
    "empty_list = []\n",
    "three_elements = [1, 'two', False]"
   ]
  },
  {
   "cell_type": "markdown",
   "id": "12e0f7af-34ce-4164-9485-73642b1d7201",
   "metadata": {},
   "source": [
    "5. The number of elements contained in the list can be determined by the len() function. For example, the following snippet prints 3 to the screen:"
   ]
  },
  {
   "cell_type": "code",
   "execution_count": 3,
   "id": "aa96c287-2efb-4c2d-ac47-7ad8bb1d8b37",
   "metadata": {},
   "outputs": [
    {
     "name": "stdout",
     "output_type": "stream",
     "text": [
      "3\n"
     ]
    }
   ],
   "source": [
    "print(len(['a', 'b', 'c']))\n"
   ]
  },
  {
   "cell_type": "markdown",
   "id": "fb133b8d-b248-4295-a946-2c5899115e2d",
   "metadata": {},
   "source": [
    "6. Any of the list's elements can be accessed using indexing. List elements are indexed by integer numbers starting from zero. Therefore, the first list element's index is 0 while the last element's index is equal to the list length minus 1. Using indices that are not integers raises the TypeError exception. For example, the following snippet prints a b c 0 1 2 to the screen:\n"
   ]
  },
  {
   "cell_type": "code",
   "execution_count": 4,
   "id": "295e2c3e-ce19-4d3f-b7e0-5e24673c0e8c",
   "metadata": {},
   "outputs": [
    {
     "name": "stdout",
     "output_type": "stream",
     "text": [
      "a b c 0 1 2 "
     ]
    }
   ],
   "source": [
    "the_list = ['a', 'b', 'c']\n",
    "counter = 0\n",
    "for ix in range(len(the_list)):\n",
    "    print(the_list[ix], end=' ')\n",
    "    the_list[ix] = counter\n",
    "    counter += 1\n",
    "for ix in range(len(the_list)):\n",
    "    print(the_list[ix], end=' ')"
   ]
  },
  {
   "cell_type": "markdown",
   "id": "a61f33c8-8923-4088-9283-fb0638870ae6",
   "metadata": {},
   "source": [
    "7. The list elements can be indexed with negative numbers, too. In this case, -1 accesses the last element of the list, and -2 accesses the one before the last, and so on. The alternative first list element's index is -len(list).\n",
    "\n",
    "8. An attempt to access a non-existent list element (when the index goes out of the permissible range) raises the IndexError exception.\n",
    "\n",
    "9. A slice is a means by which the programmer can create a new list using a part of the already existing list.\n",
    "\n",
    "10. The most general slice looks as follows:"
   ]
  },
  {
   "cell_type": "code",
   "execution_count": 7,
   "id": "093e4ed7-df2e-4576-a079-53ae7af571eb",
   "metadata": {},
   "outputs": [],
   "source": [
    "# the_list[from:to:step]"
   ]
  },
  {
   "attachments": {},
   "cell_type": "markdown",
   "id": "5d8d9cfa-76fa-45ab-8479-29b7274206db",
   "metadata": {},
   "source": [
    "11. The following assumptions are made regarding the slices:"
   ]
  },
  {
   "attachments": {
    "e3327535-d5bd-4dfc-812f-f61e487fc3ef.png": {
     "image/png": "[encoded data removed]"
    }
   },
   "cell_type": "markdown",
   "id": "80568218-0b09-4d63-9ecc-3ffa77dd0bda",
   "metadata": {},
   "source": [
    "![image.png](attachment:e3327535-d5bd-4dfc-812f-f61e487fc3ef.png)"
   ]
  },
  {
   "cell_type": "markdown",
   "id": "9472ddcc-e019-4a8d-a406-26541690ca84",
   "metadata": {},
   "source": [
    "12. Slices – like indices – can take negative values. For example, the following snippet prints [1,2] to the screen:"
   ]
  },
  {
   "cell_type": "code",
   "execution_count": 8,
   "id": "c6a27f54-f216-48b8-a42d-bfef6eda7250",
   "metadata": {},
   "outputs": [
    {
     "name": "stdout",
     "output_type": "stream",
     "text": [
      "[1, 2]\n"
     ]
    }
   ],
   "source": [
    "the_list = [0, 1, 2, 3]\n",
    "print(the_list[-3:-1])"
   ]
  },
  {
   "cell_type": "code",
   "execution_count": null,
   "id": "c783969a-76d0-4e72-af87-95bb69c6f5b7",
   "metadata": {},
   "outputs": [],
   "source": []
  }
 ],
 "metadata": {
  "kernelspec": {
   "display_name": "Python 3 (ipykernel)",
   "language": "python",
   "name": "python3"
  },
  "language_info": {
   "codemirror_mode": {
    "name": "ipython",
    "version": 3
   },
   "file_extension": ".py",
   "mimetype": "text/x-python",
   "name": "python",
   "nbconvert_exporter": "python",
   "pygments_lexer": "ipython3",
   "version": "3.12.4"
  }
 },
 "nbformat": 4,
 "nbformat_minor": 5
}
