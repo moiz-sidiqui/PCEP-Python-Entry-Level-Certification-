{
 "cells": [
  {
   "cell_type": "markdown",
   "id": "502bbb25-49c9-430d-abb7-23891d93fb07",
   "metadata": {},
   "source": [
    "## Variables"
   ]
  },
  {
   "cell_type": "markdown",
   "id": "adf906ab-bef2-4d1c-b819-f853719b9f94",
   "metadata": {},
   "source": [
    "1. A variable is a named container able to store data."
   ]
  },
  {
   "cell_type": "markdown",
   "id": "003239ee-e5d6-431f-99f9-ff0ab59c2591",
   "metadata": {},
   "source": [
    "2. A variable's name can consist of:\n",
    "letters (including non-Latin ones)\n",
    "digits\n",
    "underscores (_)"
   ]
  },
  {
   "cell_type": "markdown",
   "id": "340f9a00-c285-4781-9bc3-021d1d6edc96",
   "metadata": {},
   "source": [
    "3. Variable names which start with underscores play a specific role in Python – don't use them unless you know what you're doing.\n",
    "\n",
    "4. Variable names are not limited in length.\n",
    "\n",
    "5. The name of the variable must not be any of Python's keywords (also known as reserved words). The complete list of Python 3.8 keywords looks as follows:"
   ]
  },
  {
   "attachments": {
    "ac1ee040-ede2-4385-b890-a162603fe295.png": {
     "image/png": "[encoded data removed]"
    }
   },
   "cell_type": "markdown",
   "id": "177b0861-f258-4f5e-87d9-231afd774c1b",
   "metadata": {},
   "source": [
    "![image.png](attachment:ac1ee040-ede2-4385-b890-a162603fe295.png)"
   ]
  },
  {
   "cell_type": "markdown",
   "id": "1daa3710-da3a-4437-8963-53937f68e7f1",
   "metadata": {},
   "source": [
    "* Note: Python 3.9 introduced a new keyword, __peg_parser__, which is an easter egg related to the rollout of a new PEG parser for CPython. You can read more about this in PEP 617. The keyword will most probably be removed in Python 3.10."
   ]
  },
  {
   "cell_type": "markdown",
   "id": "3f2d5ecc-2329-4025-b7b5-61166122bd6a",
   "metadata": {},
   "source": [
    "6. These are some legal, but not necessarily the best, Python variable names:\n",
    "\n",
    "    i, counter_2, _, Tax22"
   ]
  },
  {
   "cell_type": "markdown",
   "id": "ebc54a20-a026-4204-9a5f-4b7f89807bef",
   "metadata": {},
   "source": [
    "## The assignment operator"
   ]
  },
  {
   "cell_type": "markdown",
   "id": "27d83c98-4366-4acc-9bc6-f8ce6ae3e510",
   "metadata": {},
   "source": [
    "7. The assignment operator = is designed to assign a value to a variable:\n",
    "   \n",
    "   For Example:"
   ]
  },
  {
   "cell_type": "code",
   "execution_count": 4,
   "id": "fbf62d3c-4bf3-4219-8249-9825d61c6691",
   "metadata": {},
   "outputs": [],
   "source": [
    "counter = 0\n",
    "pi2 = 3.1415 ** 2"
   ]
  },
  {
   "cell_type": "markdown",
   "id": "63c547db-2946-4fec-bfa2-674c54c210d7",
   "metadata": {},
   "source": [
    "    or – when more than one variable is assigned with the same value:\n",
    "\n",
    "    For Example"
   ]
  },
  {
   "cell_type": "code",
   "execution_count": 5,
   "id": "af19ff48-2619-4d62-b771-d2edba56c948",
   "metadata": {},
   "outputs": [],
   "source": [
    "counter = stages = 0\n"
   ]
  },
  {
   "cell_type": "markdown",
   "id": "b408cbde-9dae-4f1d-a752-9e353018984e",
   "metadata": {},
   "source": [
    "8. A variable must be assigned (defined) before its first use – using a variable without prior definition (assignment) raises the NameError exception.\n",
    "\n",
    "9. Python is a dynamically typed language, which means that a variable can freely change its type according to the last assignment it took part in.\n",
    "\n",
    "10. There are some short-cut (compound) operators which simplify certain kinds of assignments."
   ]
  },
  {
   "cell_type": "code",
   "execution_count": null,
   "id": "f724cf6f-50e7-4c3e-9b0d-4547f0085f2c",
   "metadata": {},
   "outputs": [],
   "source": []
  }
 ],
 "metadata": {
  "kernelspec": {
   "display_name": "Python 3 (ipykernel)",
   "language": "python",
   "name": "python3"
  },
  "language_info": {
   "codemirror_mode": {
    "name": "ipython",
    "version": 3
   },
   "file_extension": ".py",
   "mimetype": "text/x-python",
   "name": "python",
   "nbconvert_exporter": "python",
   "pygments_lexer": "ipython3",
   "version": "3.12.4"
  }
 },
 "nbformat": 4,
 "nbformat_minor": 5
}
