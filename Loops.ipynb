{
 "cells": [
  {
   "cell_type": "markdown",
   "id": "4de5957c-7fb5-48ec-aa50-e2c48641c84c",
   "metadata": {},
   "source": [
    "## Loops"
   ]
  },
  {
   "cell_type": "markdown",
   "id": "e24ba634-f426-4147-a75f-150dfdb7d9e7",
   "metadata": {},
   "source": [
    "1. The while loop statement is a means allowing the programmer to repeat the execution of the selected part of the code as long the specified condition is true. The condition is checked before the loop's first turn, and therefore the loop's body may not even be executed once.\n",
    "\n",
    "2. The basic form of the while statement looks as follows:"
   ]
  },
  {
   "cell_type": "code",
   "execution_count": 1,
   "id": "3e691728-096a-46a2-8730-bf12f6f276a4",
   "metadata": {},
   "outputs": [],
   "source": [
    "# while condition:\n",
    "#     instructions\n",
    "    "
   ]
  },
  {
   "cell_type": "markdown",
   "id": "96a7eed4-a80e-4e0b-b148-4eb2c95f9213",
   "metadata": {},
   "source": [
    "3. The condition is an expression – as long it evaluates to True, or to a non-zero numeric value, or to a non-empty string, it is fulfilled (met) and is not None, the nested instructions placed after the while are executed.\n",
    "\n",
    "4. When the condition is not met, these instructions are skipped.\n",
    "\n",
    "    For example, the following snippet prints TRUE twice to the screen:"
   ]
  },
  {
   "cell_type": "code",
   "execution_count": 2,
   "id": "cfe090aa-a5ba-4c31-afa4-c4d7fcfdd853",
   "metadata": {},
   "outputs": [
    {
     "name": "stdout",
     "output_type": "stream",
     "text": [
      "TRUE\n",
      "TRUE\n"
     ]
    }
   ],
   "source": [
    "counter = 2\n",
    "while counter > 0:\n",
    "    print('TRUE')\n",
    "    counter -= 1\n"
   ]
  },
  {
   "cell_type": "markdown",
   "id": "81f49002-84f7-43af-89c5-5de35e9ec687",
   "metadata": {},
   "source": [
    "5. The else branch can be used to specify a part of the code that should be executed when the loop’s condition is not met:"
   ]
  },
  {
   "cell_type": "code",
   "execution_count": 3,
   "id": "2099d7ea-596f-4b08-b9b2-d388a2bd5370",
   "metadata": {},
   "outputs": [],
   "source": [
    "# while condition:\n",
    "#     instructions\n",
    "# else:\n",
    "#     instructions\n"
   ]
  },
  {
   "cell_type": "markdown",
   "id": "c215dacb-6ee4-4ca9-8dbf-d24216c010bc",
   "metadata": {},
   "source": [
    "For example, the following snippet prints TRUE FALSE to the screen:\n"
   ]
  },
  {
   "cell_type": "code",
   "execution_count": 4,
   "id": "39e788f6-d4ed-4e2b-95e6-75096ce7e5f8",
   "metadata": {},
   "outputs": [
    {
     "name": "stdout",
     "output_type": "stream",
     "text": [
      "TRUE FALSE\n"
     ]
    }
   ],
   "source": [
    "counter = 1\n",
    "while counter > 0:\n",
    "    print('TRUE', end=' ')\n",
    "    counter -= 1\n",
    "else:\n",
    "    print('FALSE')"
   ]
  },
  {
   "cell_type": "markdown",
   "id": "3e39032b-8ea1-4c81-abbd-87f62d28e3ca",
   "metadata": {},
   "source": [
    "6. If the condition is met at the beginning of the loop and there is no chance that the condition value has changed inside the body of the loop, the execution enters an infinite loop which cannot be broken without the user's intervention, for example by pressing the Ctrl-C (Ctrl-Break) key combination.\n",
    "\n",
    "    For example, the following snippet infinitely prints TRUE to the screen:\n"
   ]
  },
  {
   "cell_type": "code",
   "execution_count": 5,
   "id": "1c5354ba-0b6f-4495-8f80-7b1db1f46b27",
   "metadata": {},
   "outputs": [],
   "source": [
    "# while True:\n",
    "#     print('TRUE', end=' ')\n",
    "\n"
   ]
  },
  {
   "cell_type": "markdown",
   "id": "f35a72d2-25a0-4863-a82c-73337e2e6070",
   "metadata": {},
   "source": [
    "7. he for loop statement is a means allowing the programmer to repeat the execution of the selected part of the code when the number of repetitions can be determined in advance. The for statement uses a dedicated variable called a control variable, whose subsequent values reflect the status of the iteration.\n",
    "\n",
    "8. The basic form of the for statement looks as follows:"
   ]
  },
  {
   "cell_type": "code",
   "execution_count": 6,
   "id": "7b546582-54f8-4a16-9712-6dfecc1974f8",
   "metadata": {},
   "outputs": [],
   "source": [
    "# for control_variable in range(from, to, step):\n",
    "#     instructions"
   ]
  },
  {
   "cell_type": "markdown",
   "id": "4f44d3b6-d190-4d7a-acb0-8f7fa6843e89",
   "metadata": {},
   "source": [
    "9. The range() function is a generator responsible for the creation of a series of values starting from from and ending before reaching to, incrementing the current value by step.\n",
    "\n",
    "10. The invocation range(i,j) is the equivalent of range(i, j, 1)\n",
    "\n",
    "11. The invocation range(i) is the equivalent of range(0, i)\n",
    "\n",
    "    For example, the following snippet prints 0,1,2, to the screen:"
   ]
  },
  {
   "cell_type": "code",
   "execution_count": 7,
   "id": "fe5d7fa7-c9ae-4b5e-98c5-cb966c85bfa8",
   "metadata": {},
   "outputs": [
    {
     "name": "stdout",
     "output_type": "stream",
     "text": [
      "0,1,2,"
     ]
    }
   ],
   "source": [
    "for i in range(3):\n",
    "    print(i, end=',')"
   ]
  },
  {
   "cell_type": "markdown",
   "id": "1f6c86c5-afd0-486b-8396-709126c545a5",
   "metadata": {},
   "source": [
    "For example, the following snippet prints 2 1 0 to the screen:"
   ]
  },
  {
   "cell_type": "code",
   "execution_count": 8,
   "id": "8f1ecabe-d685-4000-8b3c-6519d0ffd40b",
   "metadata": {},
   "outputs": [
    {
     "name": "stdout",
     "output_type": "stream",
     "text": [
      "2 1 0 "
     ]
    }
   ],
   "source": [
    "for i in range(2, -1, -1):\n",
    "    print(i, end=' ')"
   ]
  },
  {
   "cell_type": "markdown",
   "id": "f84a614f-5975-4343-af3f-317b116d4d10",
   "metadata": {},
   "source": [
    "12. The else branch can be used to specify a part of the code that should be executed when the loop's body is not entered, which may happen when the range being iterated is empty or when all the range's values have already been consumed.\n",
    "\n",
    "    For example, the following snippet prints 0 1 2 FINISHED to the screen:"
   ]
  },
  {
   "cell_type": "code",
   "execution_count": 9,
   "id": "4e3b36e8-afc3-460c-b9b8-3931fd60c999",
   "metadata": {},
   "outputs": [
    {
     "name": "stdout",
     "output_type": "stream",
     "text": [
      "0 1 2 FINISHED\n"
     ]
    }
   ],
   "source": [
    "for i in range(3):\n",
    "    print(i, end=' ')\n",
    "else:\n",
    "    print('FINISHED')"
   ]
  },
  {
   "cell_type": "markdown",
   "id": "88313d07-67d6-4b83-b17a-9ec877e14794",
   "metadata": {},
   "source": [
    "For example, the following snippet prints FINISHED to the screen:"
   ]
  },
  {
   "cell_type": "code",
   "execution_count": 10,
   "id": "d49254a0-7d18-419b-9b90-5f588ba645d2",
   "metadata": {},
   "outputs": [
    {
     "name": "stdout",
     "output_type": "stream",
     "text": [
      "FINISHED\n"
     ]
    }
   ],
   "source": [
    "for i in range(1,1):\n",
    "    print(i, end=' ')\n",
    "else:\n",
    "    print('FINISHED')"
   ]
  },
  {
   "cell_type": "markdown",
   "id": "2632269d-9550-4763-92e8-786ac116080f",
   "metadata": {},
   "source": [
    "13. The break statement can be used inside the loop's body only, and causes immediate termination of the loop's code. If the loop is equipped with the else branch, it is omitted.\n",
    "\n",
    "    For example, these two snippets print 0 1 to the screen:"
   ]
  },
  {
   "cell_type": "code",
   "execution_count": 11,
   "id": "07aabc14-9509-4e08-b714-4831503a3bd8",
   "metadata": {},
   "outputs": [
    {
     "name": "stdout",
     "output_type": "stream",
     "text": [
      "0 1 "
     ]
    }
   ],
   "source": [
    "# break inside for\n",
    "for i in range(3):\n",
    "    if i == 2:\n",
    "        break\n",
    "    print(i, end=' ')\n",
    "else:\n",
    "    print('FINISHED')"
   ]
  },
  {
   "cell_type": "code",
   "execution_count": 12,
   "id": "a8af86ba-f99e-4486-8562-1659118aebae",
   "metadata": {},
   "outputs": [
    {
     "name": "stdout",
     "output_type": "stream",
     "text": [
      "1 2 "
     ]
    }
   ],
   "source": [
    "# break inside while\n",
    "i = 1\n",
    "while True:\n",
    "    print(i, end=' ')\n",
    "    i += 1\n",
    "    if i == 3:\n",
    "        break    \n",
    "else:\n",
    "    print('FINISHED')"
   ]
  },
  {
   "cell_type": "markdown",
   "id": "e429ad48-f109-4664-b74c-e3a471f65911",
   "metadata": {},
   "source": [
    "14. The continue statement can be used inside the loop's body only, and causes an immediate transition to the next iteration of the for loop, or to the while loop's condition check.\n",
    "\n",
    "    For example, these two snippets print 0 2 FINISHED to the screen:"
   ]
  },
  {
   "cell_type": "code",
   "execution_count": 13,
   "id": "4ea4c645-83da-4abb-8394-4dab3ca63dd0",
   "metadata": {},
   "outputs": [
    {
     "name": "stdout",
     "output_type": "stream",
     "text": [
      "0 2 FINISHED\n"
     ]
    }
   ],
   "source": [
    "# continue inside for\n",
    "for i in range(4):\n",
    "    if i % 2 == 1:\n",
    "        continue\n",
    "    print(i, end=' ')\n",
    "else:\n",
    "    print('FINISHED')"
   ]
  },
  {
   "cell_type": "code",
   "execution_count": 14,
   "id": "bfec0110-cd67-4f31-b61e-309b9d63f6ea",
   "metadata": {},
   "outputs": [
    {
     "name": "stdout",
     "output_type": "stream",
     "text": [
      "0 2 FINISHED\n"
     ]
    }
   ],
   "source": [
    "# continue inside while\n",
    "i = -1\n",
    "while i < 3:\n",
    "    i += 1\n",
    "    if i % 2 != 0:\n",
    "        continue\n",
    "    print(i, end=' ')\n",
    "else:\n",
    "    print('FINISHED')"
   ]
  },
  {
   "cell_type": "code",
   "execution_count": null,
   "id": "95d2fbf3-e1c8-43a2-8f06-3728069330b4",
   "metadata": {},
   "outputs": [],
   "source": []
  }
 ],
 "metadata": {
  "kernelspec": {
   "display_name": "Python 3 (ipykernel)",
   "language": "python",
   "name": "python3"
  },
  "language_info": {
   "codemirror_mode": {
    "name": "ipython",
    "version": 3
   },
   "file_extension": ".py",
   "mimetype": "text/x-python",
   "name": "python",
   "nbconvert_exporter": "python",
   "pygments_lexer": "ipython3",
   "version": "3.12.4"
  }
 },
 "nbformat": 4,
 "nbformat_minor": 5
}
