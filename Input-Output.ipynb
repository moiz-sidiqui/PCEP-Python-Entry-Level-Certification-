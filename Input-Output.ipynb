{
 "cells": [
  {
   "cell_type": "markdown",
   "id": "bcc00a61-790d-40e2-9ab4-072f99020fd3",
   "metadata": {},
   "source": [
    "## Input/Output"
   ]
  },
  {
   "cell_type": "markdown",
   "id": "826956c1-99e5-405e-96a7-a7a26f58f79f",
   "metadata": {},
   "source": [
    "1. The input() function is used to interact with the user, allowing them to suspend program execution and to enter a sequence (including an empty one) of characters, which is the function's result.\n",
    "\n",
    "2. If the user presses <Enter> while providing no other input, the input() function returns an empty string as a result.\n",
    "\n",
    "    For example, the name variable is assigned with a string inputted by the user:"
   ]
  },
  {
   "cell_type": "code",
   "execution_count": 3,
   "id": "9254c889-67fb-4840-b78a-beb57efe265c",
   "metadata": {},
   "outputs": [
    {
     "name": "stdin",
     "output_type": "stream",
     "text": [
      " 2\n"
     ]
    }
   ],
   "source": [
    "name = input()"
   ]
  },
  {
   "cell_type": "markdown",
   "id": "4fb8b1a9-a0d8-47d5-bd31-37dd2e9b6ca3",
   "metadata": {},
   "source": [
    "3. The input() function accepts an optional argument which is a string; the argument is printed on the screen before the actual input begins.\n",
    "\n",
    "    For example, the user is prompted to input the name:"
   ]
  },
  {
   "cell_type": "code",
   "execution_count": 4,
   "id": "2a058b6e-39e7-4dee-b104-27e7ca016cdc",
   "metadata": {},
   "outputs": [
    {
     "name": "stdin",
     "output_type": "stream",
     "text": [
      "What is your name? Moiz\n"
     ]
    }
   ],
   "source": [
    "name = input('What is your name?')"
   ]
  },
  {
   "cell_type": "markdown",
   "id": "09b6d610-8d8a-40d7-84f3-80d35b906c63",
   "metadata": {},
   "source": [
    "4. To convert the user's input into an integer number, the int() function can be used.\n",
    "\n",
    "5. An operation during which the data changes its type is called type casting.\n",
    "\n",
    "    For example, the user is asked to input a year of birth. The input is converted into an integer number and assigned to the b_year variable:"
   ]
  },
  {
   "cell_type": "code",
   "execution_count": 5,
   "id": "b12f2c17-559b-4880-9292-fb64c34bcc9c",
   "metadata": {},
   "outputs": [
    {
     "name": "stdin",
     "output_type": "stream",
     "text": [
      "What is your year of birth? 2000\n"
     ]
    }
   ],
   "source": [
    "b_year = int(input('What is your year of birth?'))"
   ]
  },
  {
   "cell_type": "markdown",
   "id": "21413aa1-fdf6-411e-9b19-bcb47e3bd8e3",
   "metadata": {},
   "source": [
    "6. To convert the user's input into a float number, the float() function can be used.\n",
    "\n",
    "    For example, the user is asked to input a height measured in meters. The input is converted into a float number and assigned to the m_stature variable:"
   ]
  },
  {
   "cell_type": "code",
   "execution_count": 7,
   "id": "976c5f7d-749c-4bc9-b5e6-5d80f4705565",
   "metadata": {},
   "outputs": [
    {
     "name": "stdin",
     "output_type": "stream",
     "text": [
      "What is your height in meters? 3\n"
     ]
    }
   ],
   "source": [
    "m_stature = float(input('What is your height in meters?'))"
   ]
  },
  {
   "cell_type": "markdown",
   "id": "9c1ecadb-3813-4b16-aadd-b6c6ab526b66",
   "metadata": {},
   "source": [
    "7. If the int() or float() is not able to perform the conversion due to the incorrect contents of the user's input, the ValueError exception is raised.\n",
    "\n",
    "8. Unless otherwise specified, the printed values are separated by single spaces.\n",
    "\n",
    "    For example, the following snippet sends 1 2 3 to the screen:"
   ]
  },
  {
   "cell_type": "code",
   "execution_count": 8,
   "id": "e2c99bcf-2577-430b-9d56-69bfdb07d2bb",
   "metadata": {},
   "outputs": [
    {
     "name": "stdout",
     "output_type": "stream",
     "text": [
      "1 2 3\n"
     ]
    }
   ],
   "source": [
    "print(1, 2, 3)"
   ]
  },
  {
   "cell_type": "markdown",
   "id": "f5bf7614-f1a5-4190-9544-1f99add97c75",
   "metadata": {},
   "source": [
    "9. If the invocation makes use of the sep keyword parameter, the parameter's value (even when it's empty) is used to separate outputted values instead of spaces.\n",
    "\n",
    "    For example, the following snippet sends 1\\*2\\*3 to the screen:"
   ]
  },
  {
   "cell_type": "code",
   "execution_count": 9,
   "id": "190e6a3d-7887-4c42-9398-87d930a3717a",
   "metadata": {},
   "outputs": [
    {
     "name": "stdout",
     "output_type": "stream",
     "text": [
      "1*2*3\n"
     ]
    }
   ],
   "source": [
    "print(1, 2, 3, sep='*')"
   ]
  },
  {
   "cell_type": "markdown",
   "id": "e5057731-d412-40a9-9d2c-26bbbb8eaaf2",
   "metadata": {},
   "source": [
    "10. Unless otherwise specified, each print() function invocation sends the newline character to the screen before its completion, therefore each print() function's output starts on a new line.\n",
    "\n",
    "    For example, the following snippet produces two lines of output on the screen:"
   ]
  },
  {
   "cell_type": "code",
   "execution_count": 10,
   "id": "46fa45e4-bcd7-4641-b389-f782c58f97c9",
   "metadata": {},
   "outputs": [
    {
     "name": "stdout",
     "output_type": "stream",
     "text": [
      "Alpha\n",
      "Bravo\n"
     ]
    }
   ],
   "source": [
    "print('Alpha')\n",
    "print('Bravo')\n"
   ]
  },
  {
   "cell_type": "markdown",
   "id": "f6a47212-3925-4c1a-97a0-bc191a6b47e2",
   "metadata": {},
   "source": [
    "11. If the invocation makes use of the end keyword parameter, the parameter's value is (even when it's empty) used to complete the output instead of the newline.\n",
    "\n",
    "    For example, the following snippet produces one line of output on the screen:\n"
   ]
  },
  {
   "cell_type": "code",
   "execution_count": 11,
   "id": "285b8b17-fbe5-4d0b-9f82-ba3eece86e1a",
   "metadata": {},
   "outputs": [
    {
     "name": "stdout",
     "output_type": "stream",
     "text": [
      "AlphaBravo\n"
     ]
    }
   ],
   "source": [
    "print('Alpha', end='')\n",
    "print('Bravo')\n"
   ]
  },
  {
   "cell_type": "markdown",
   "id": "e18ffa6d-ef1d-4a05-96fe-eb82b8a61f87",
   "metadata": {},
   "source": [
    "12. The end and sep parameters can be used together.\n",
    "\n",
    "    For example, the following snippet produces one line of asterisk-separated letters:\n"
   ]
  },
  {
   "cell_type": "code",
   "execution_count": 12,
   "id": "d70e8705-b20a-40d4-9878-750458405dbd",
   "metadata": {},
   "outputs": [
    {
     "name": "stdout",
     "output_type": "stream",
     "text": [
      "A*B*C\n"
     ]
    }
   ],
   "source": [
    "print('A', 'B', sep='*', end='*')\n",
    "print('C')"
   ]
  },
  {
   "cell_type": "code",
   "execution_count": null,
   "id": "a05c6de2-f6ad-48e7-9d97-9ed65a3f083b",
   "metadata": {},
   "outputs": [],
   "source": []
  }
 ],
 "metadata": {
  "kernelspec": {
   "display_name": "Python 3 (ipykernel)",
   "language": "python",
   "name": "python3"
  },
  "language_info": {
   "codemirror_mode": {
    "name": "ipython",
    "version": 3
   },
   "file_extension": ".py",
   "mimetype": "text/x-python",
   "name": "python",
   "nbconvert_exporter": "python",
   "pygments_lexer": "ipython3",
   "version": "3.12.4"
  }
 },
 "nbformat": 4,
 "nbformat_minor": 5
}
