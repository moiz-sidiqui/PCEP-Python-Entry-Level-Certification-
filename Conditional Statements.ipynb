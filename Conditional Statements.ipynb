{
 "cells": [
  {
   "cell_type": "markdown",
   "id": "fe63c908-b13a-45d8-a87e-a047b655570f",
   "metadata": {},
   "source": [
    "## Conditional Statements"
   ]
  },
  {
   "cell_type": "markdown",
   "id": "24711e24-ce51-4d5c-9656-72c418cc4d21",
   "metadata": {},
   "source": [
    "1. The conditional statement (the if statement) is a means allowing the programmer to branch the execution path and to execute (or not) selected instructions when a certain condition is met (or not).\n",
    "\n",
    "2. The basic form of the if statement looks as follows:\n",
    "\n",
    "    if condition:\n",
    "\n",
    "   \n",
    "        instructions"
   ]
  },
  {
   "cell_type": "markdown",
   "id": "6d735d30-88cf-484a-96fd-fecd8f124d89",
   "metadata": {},
   "source": [
    "3. The condition is an expression – if it evaluates to True, or to a non-zero numeric value, or to a non-empty string and is not None, it is fulfilled (met), and the nested instructions placed after the if are executed.\n",
    "\n",
    "4. When the condition is not met, these instructions are skipped.\n",
    "\n",
    "5. When there is only one instruction that should be executed conditionally, the instruction can be written in the following form:\n",
    "\n",
    "    if condition: instruction\n",
    "    \n",
    "\n",
    "6. For example, the following snippet prints TRUE to the screen:"
   ]
  },
  {
   "cell_type": "code",
   "execution_count": 1,
   "id": "486505ac-07d5-4e6a-b4e0-6fa498483240",
   "metadata": {},
   "outputs": [
    {
     "name": "stdout",
     "output_type": "stream",
     "text": [
      "TRUE\n"
     ]
    }
   ],
   "source": [
    "counter = 1\n",
    "if counter > 0:\n",
    "    print('TRUE')"
   ]
  },
  {
   "cell_type": "markdown",
   "id": "829ba695-cc54-477e-beaa-a43a99ef27ea",
   "metadata": {},
   "source": [
    "7. The empty instruction denoted by the pass keyword can be used to indicate that no action should be performed in the specific context. As the if instruction syntax insists that there should be at least one statement after it, the following snippet does not affect program execution:"
   ]
  },
  {
   "cell_type": "code",
   "execution_count": 2,
   "id": "53bf25b2-c9aa-43fc-b07a-fc2bdaeed235",
   "metadata": {},
   "outputs": [],
   "source": [
    "#if condition:\n",
    "    #pass"
   ]
  },
  {
   "cell_type": "markdown",
   "id": "614c659d-c199-48e6-9b6d-c24ed3236eea",
   "metadata": {},
   "source": [
    "8. It is suggested to use one tabulation character to make one indent level in Python code, while the recommended tab size (settable in virtually all code editors) is 4.\n",
    "\n",
    "9. The else branch can be used to specify a part of the code that should be executed when the condition is not met:"
   ]
  },
  {
   "cell_type": "code",
   "execution_count": 3,
   "id": "4983cf53-646e-409f-8072-52f56b21cd57",
   "metadata": {},
   "outputs": [],
   "source": [
    "# if condition:\n",
    "#     instructions\n",
    "# else:\n",
    "#     instructions\n"
   ]
  },
  {
   "cell_type": "markdown",
   "id": "2a53787e-f89a-46a3-8c66-398a54f35c69",
   "metadata": {},
   "source": [
    "10. For example, the following snippet prints TRUE when the counter variable is greater than zero, and FALSE otherwise:"
   ]
  },
  {
   "cell_type": "code",
   "execution_count": 4,
   "id": "2f8f8727-1692-4e78-9adf-7af692d7d4af",
   "metadata": {},
   "outputs": [
    {
     "name": "stdout",
     "output_type": "stream",
     "text": [
      "TRUE\n"
     ]
    }
   ],
   "source": [
    "if counter > 0:\n",
    "    print('TRUE')\n",
    "else:\n",
    "    print('FALSE')"
   ]
  },
  {
   "cell_type": "markdown",
   "id": "4ea48524-bd43-42cf-928a-d7c4f314abf9",
   "metadata": {},
   "source": [
    "11. To check more than one condition within one conditional block, the elif branch or branches may be employed. In that case, not more than one if/elif branch can be executed. The else branch is optional, and must be the last branch.\n",
    "\n",
    "12. For example, the following snippet prints PLUS when the counter variable is greater than zero, MINUS when it's less than zero, and ZERO when it's equal to zero:"
   ]
  },
  {
   "cell_type": "code",
   "execution_count": 5,
   "id": "98384a9f-39b0-4aea-b00c-1a2b9e8c5209",
   "metadata": {},
   "outputs": [
    {
     "name": "stdout",
     "output_type": "stream",
     "text": [
      "PLUS\n"
     ]
    }
   ],
   "source": [
    "if counter > 0:\n",
    "    print('PLUS')\n",
    "elif counter < 0:\n",
    "    print('MINUS')\n",
    "else:\n",
    "    print('ZERO')"
   ]
  },
  {
   "cell_type": "code",
   "execution_count": null,
   "id": "37bb9c6f-f9be-47f5-9763-0fe8189a8c53",
   "metadata": {},
   "outputs": [],
   "source": []
  }
 ],
 "metadata": {
  "kernelspec": {
   "display_name": "Python 3 (ipykernel)",
   "language": "python",
   "name": "python3"
  },
  "language_info": {
   "codemirror_mode": {
    "name": "ipython",
    "version": 3
   },
   "file_extension": ".py",
   "mimetype": "text/x-python",
   "name": "python",
   "nbconvert_exporter": "python",
   "pygments_lexer": "ipython3",
   "version": "3.12.4"
  }
 },
 "nbformat": 4,
 "nbformat_minor": 5
}
