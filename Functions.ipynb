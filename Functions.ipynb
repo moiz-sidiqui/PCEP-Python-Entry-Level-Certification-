{
 "cells": [
  {
   "cell_type": "markdown",
   "id": "86ca10c6-7d6f-41bb-8adf-163c36e6b633",
   "metadata": {},
   "source": [
    "## Functions"
   ]
  },
  {
   "cell_type": "markdown",
   "id": "ac46f6ee-d513-471b-a97a-73dbc8a2e0c6",
   "metadata": {},
   "source": [
    "1. A function is a named, separate part of the code that can be activated on demand. A function can perform an action, or return a result, or both.\n",
    "\n",
    "2. The simplest function, which does nothing and returns no result, can be defined in the following way:"
   ]
  },
  {
   "cell_type": "code",
   "execution_count": 1,
   "id": "a3621142-83b5-4bd7-ba87-256da804bb2c",
   "metadata": {},
   "outputs": [],
   "source": [
    "def lazy():\n",
    "    pass"
   ]
  },
  {
   "cell_type": "markdown",
   "id": "f02efce9-e07a-440f-a04d-374813d6b8eb",
   "metadata": {},
   "source": [
    "3. Activating a function is done by the function invocation (function call). The lazy() function defined above can be invoked by the following clause:"
   ]
  },
  {
   "cell_type": "code",
   "execution_count": 2,
   "id": "52a3e7df-50f6-4356-a8da-dd78eeac12fc",
   "metadata": {},
   "outputs": [],
   "source": [
    "lazy()"
   ]
  },
  {
   "cell_type": "markdown",
   "id": "aeb16b3c-3248-4269-9323-9ba997d392d0",
   "metadata": {},
   "source": [
    "4. Function definition must precede its invocation. Breaking this rule raises the NameError exception.\n",
    "\n",
    "5. A function can be equipped with an arbitrary number of parameters. The parameters behave like variables known inside the function only, and their values are set during the invocation. The invocation must provide as many arguments as needed to initialize all parameters. Breaking this rule results in raising the TypeError exception.\n",
    "\n",
    "6. If a function is supposed to evaluate a result, it must perform the return expression instruction, which immediately terminates function execution and causes the function to return the expression value to the invoker. If the function does not execute the instruction, or utilizes return without an expression, the None value is returned implicitly. For example, the following snippet prints True None to the screen:"
   ]
  },
  {
   "cell_type": "code",
   "execution_count": 3,
   "id": "b9e2f046-7754-44dc-b4ad-e7d7914f28b2",
   "metadata": {},
   "outputs": [
    {
     "name": "stdout",
     "output_type": "stream",
     "text": [
      "True None\n"
     ]
    }
   ],
   "source": [
    "def function(parameter):\n",
    "    if parameter == False:\n",
    "        return True\n",
    "\n",
    "\n",
    "print(function(False), function(True))"
   ]
  },
  {
   "cell_type": "markdown",
   "id": "da71c20c-a249-4013-9bce-059b5fce5718",
   "metadata": {},
   "source": [
    "7. A function definition can declare default values for some or all of its parameters. When the invocation does not provide arguments for these parameters, the default values are taken into consideration. Note: parameters with default values must not precede the ones without them. For example, the following snippet prints True False to the screen:"
   ]
  },
  {
   "cell_type": "code",
   "execution_count": 4,
   "id": "4cc24939-66c6-44c0-96d2-a0bf34f0fdf6",
   "metadata": {},
   "outputs": [
    {
     "name": "stdout",
     "output_type": "stream",
     "text": [
      "True False\n"
     ]
    }
   ],
   "source": [
    "def function(parameter = False):\n",
    "    return parameter\n",
    "\n",
    "\n",
    "print(function(True), function())\n"
   ]
  },
  {
   "cell_type": "markdown",
   "id": "0220fb54-82a7-421a-b9e5-26eeb05638de",
   "metadata": {},
   "source": [
    "8. The positional parameter passing technique is a technique based on the assumption that the arguments are associated with the parameters based upon their position (i.e. the first argument value goes to the first parameter, and so on) For example, the following snippet outputs 1 2 3 to the screen:"
   ]
  },
  {
   "cell_type": "code",
   "execution_count": 5,
   "id": "df1c6e55-e122-4fa9-865e-e65bc52f9282",
   "metadata": {},
   "outputs": [
    {
     "name": "stdout",
     "output_type": "stream",
     "text": [
      "1 2 3\n"
     ]
    }
   ],
   "source": [
    "def function(a, b, c):\n",
    "    print(a, b, c)\n",
    "\n",
    "\n",
    "function(1, 2, 3)"
   ]
  },
  {
   "cell_type": "markdown",
   "id": "ce504ced-a46d-4a0a-88a2-e7f55539ed8b",
   "metadata": {},
   "source": [
    "9. The keyword parameter passing technique is a technique based on the assumption that the arguments are associated with the parameters based upon the parameter's names, which must be explicitly specified during the invocation. For example, the following snippet outputs 1 2 3 to the screen:"
   ]
  },
  {
   "cell_type": "code",
   "execution_count": 6,
   "id": "546b0601-1b00-4c36-8d35-cdfe92018ff8",
   "metadata": {},
   "outputs": [
    {
     "name": "stdout",
     "output_type": "stream",
     "text": [
      "1 2 3\n"
     ]
    }
   ],
   "source": [
    "def function(a, b, c):\n",
    "    print(a, b, c)\n",
    "\n",
    "\n",
    "function(c=3, a=1, b=2)"
   ]
  },
  {
   "cell_type": "markdown",
   "id": "6afc0be7-dd09-4b8f-abdb-1f7356fd4b49",
   "metadata": {},
   "source": [
    "10. A function definition can declare default values for some or all of its parameters. When the invocation does not provide arguments for these parameters, the default values are taken into consideration. Note: parameters with default values must not precede the ones without them. For example, the following snippet prints 1 2 3 to the screen:"
   ]
  },
  {
   "cell_type": "code",
   "execution_count": 7,
   "id": "1d3ff49c-5ae7-4735-9ad6-1e80809dfdc5",
   "metadata": {},
   "outputs": [
    {
     "name": "stdout",
     "output_type": "stream",
     "text": [
      "1 2 3\n"
     ]
    }
   ],
   "source": [
    "def function(a, b, c):\n",
    "    print(a, b, c)\n",
    "\n",
    "\n",
    "function(1, c=3, b=2)\n"
   ]
  },
  {
   "cell_type": "markdown",
   "id": "c0400489-324e-4c14-9b9d-574b4dbd8f21",
   "metadata": {},
   "source": [
    "11. Note that the following invocation is incorrect and will raise the TypeError exception, because the a parameter is set twice (once with the positional passing and once with the keyword passing) while the c parameter is not set at all."
   ]
  },
  {
   "cell_type": "code",
   "execution_count": 8,
   "id": "ea0e87cd-70b1-4b2e-b1d1-377c90a52080",
   "metadata": {},
   "outputs": [],
   "source": [
    "# function(1, a=1, b=2)\n",
    "# TypeError"
   ]
  },
  {
   "cell_type": "markdown",
   "id": "a5c0926f-0983-489e-8fda-298681e1278c",
   "metadata": {},
   "source": [
    "12. A scope is the part of the code where a certain name is properly recognizable.\n",
    "\n",
    "13. A variable existing outside a function has a scope which includes the function's bodies.\n",
    "\n",
    "14. A variable defined inside the function has a scope inside the function's body only.\n",
    "\n",
    "15. If a certain variable is used inside a function and the variable’s name is listed as an argument of the global keyword, it has global scope, and it is also recognizable outside the function. For example, the following snippet outputs 2 to the screen:"
   ]
  },
  {
   "cell_type": "code",
   "execution_count": 9,
   "id": "33f32c0e-3899-472d-8803-a3da47078e4f",
   "metadata": {},
   "outputs": [
    {
     "name": "stdout",
     "output_type": "stream",
     "text": [
      "2\n"
     ]
    }
   ],
   "source": [
    "def function():\n",
    "    global variable\n",
    "    variable += 1\n",
    "\n",
    "\n",
    "variable = 1\n",
    "function()\n",
    "print(variable)"
   ]
  },
  {
   "cell_type": "markdown",
   "id": "33ecde2d-660a-4a84-871e-c6328fad01c8",
   "metadata": {},
   "source": [
    "    Note: removing the line containing the global keyword will spoil the code and the UnboundLocalError exception will be raised.\n",
    "\n",
    "16. Changing the parameter's value doesn't propagate it outside the function. For example, the following snippet outputs [1] to the screen:"
   ]
  },
  {
   "cell_type": "code",
   "execution_count": 10,
   "id": "bb5a9ab6-ca91-48f9-812d-5f2d70f4476d",
   "metadata": {},
   "outputs": [
    {
     "name": "stdout",
     "output_type": "stream",
     "text": [
      "[1]\n"
     ]
    }
   ],
   "source": [
    "def function(parameter):\n",
    "    parameter = [2]\n",
    "\n",
    "\n",
    "the_list = [1]\n",
    "function(the_list)\n",
    "print(the_list)\n"
   ]
  },
  {
   "cell_type": "markdown",
   "id": "3a295057-1e84-4e82-bcec-9a99107e6a54",
   "metadata": {},
   "source": [
    "17. If the parameter is a list or a dictionary, changing its contents propagates them outside the function. For example, the following snippet outputs [2] to the screen:"
   ]
  },
  {
   "cell_type": "code",
   "execution_count": 11,
   "id": "ae491ae0-94a9-4e2f-a28e-bf21de403d99",
   "metadata": {},
   "outputs": [
    {
     "name": "stdout",
     "output_type": "stream",
     "text": [
      "[2]\n"
     ]
    }
   ],
   "source": [
    "def function(parameter):\n",
    "    parameter[0] = 2\n",
    "\n",
    "\n",
    "the_list = [1]\n",
    "function(the_list)\n",
    "print(the_list)\n"
   ]
  },
  {
   "cell_type": "markdown",
   "id": "d0c5b3a7-cede-4bbe-b389-42daca1a0f5c",
   "metadata": {},
   "source": [
    "18. Recursion is a programming technique in which the function invokes itself to perform a complex task. For example, the following snippet contains a function that evaluates the factorial of its argument and prints 120 to the screen:"
   ]
  },
  {
   "cell_type": "code",
   "execution_count": 12,
   "id": "db6a4fe1-934e-4b2f-b7aa-5b7827c21d76",
   "metadata": {},
   "outputs": [
    {
     "name": "stdout",
     "output_type": "stream",
     "text": [
      "120\n"
     ]
    }
   ],
   "source": [
    "def factorial(n):\n",
    "    if n < 2:\n",
    "        return n\n",
    "    else:\n",
    "        return n * factorial(n - 1)\n",
    "\n",
    "\n",
    "print(factorial(5)) "
   ]
  },
  {
   "cell_type": "code",
   "execution_count": null,
   "id": "15915a88-c5f5-4178-ba97-b819cf264518",
   "metadata": {},
   "outputs": [],
   "source": []
  }
 ],
 "metadata": {
  "kernelspec": {
   "display_name": "Python 3 (ipykernel)",
   "language": "python",
   "name": "python3"
  },
  "language_info": {
   "codemirror_mode": {
    "name": "ipython",
    "version": 3
   },
   "file_extension": ".py",
   "mimetype": "text/x-python",
   "name": "python",
   "nbconvert_exporter": "python",
   "pygments_lexer": "ipython3",
   "version": "3.12.4"
  }
 },
 "nbformat": 4,
 "nbformat_minor": 5
}
