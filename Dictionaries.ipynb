{
 "cells": [
  {
   "cell_type": "markdown",
   "id": "86f06875-84de-42fb-a17a-82feb5eee4c0",
   "metadata": {},
   "source": [
    "## Dictionaries"
   ]
  },
  {
   "cell_type": "markdown",
   "id": "7e624ad0-61aa-4182-ba78-c16525647019",
   "metadata": {},
   "source": [
    "1. A dictionary is a data aggregate that gathers pairs of values. The first element in each pair is called the key, and the second one is called the value. Both keys and values can be of any type.\n",
    "\n",
    "2. Dictionaries are mutable but are not sequences – the order of pairs is imposed by the order in which the keys are entered into the dictionary.\n",
    "\n",
    "3. Dictionaries can be initialized with dictionary literals. For example, these assignments instantiate two dictionaries – one empty and one containing two key:value pairs:"
   ]
  },
  {
   "cell_type": "code",
   "execution_count": 1,
   "id": "727db1cd-cfb1-48eb-b998-68da4826a56f",
   "metadata": {},
   "outputs": [],
   "source": [
    "empty_dictionary = {}\n",
    "phone_directory = {'Emergency': 911, 'Speaking Clock': 767}\n"
   ]
  },
  {
   "cell_type": "markdown",
   "id": "0565bde5-5789-40ba-bd08-ee68ccaf8379",
   "metadata": {},
   "source": [
    "4. Accessing a dictionary's value requires the use of its key. For example, the following line outputs 911 to the screen:"
   ]
  },
  {
   "cell_type": "code",
   "execution_count": 2,
   "id": "553dec85-c33d-46e6-b773-41699fd0c758",
   "metadata": {},
   "outputs": [
    {
     "name": "stdout",
     "output_type": "stream",
     "text": [
      "911\n"
     ]
    }
   ],
   "source": [
    "print(phone_directory['Emergency'])"
   ]
  },
  {
   "cell_type": "markdown",
   "id": "ea652f16-8039-4678-96e0-f3d69c3d37f4",
   "metadata": {},
   "source": [
    "5. An attempt to access an element whose key is absent in the dictionary raises the KeyError exception.\n",
    "\n",
    "6. The in and not in operators can be used to check whether a certain key exists in the dictionary. For example, the following line prints True False to the screen:"
   ]
  },
  {
   "cell_type": "code",
   "execution_count": 3,
   "id": "b84571ff-d762-4d76-9178-f6f1bfe33f23",
   "metadata": {},
   "outputs": [
    {
     "name": "stdout",
     "output_type": "stream",
     "text": [
      "True False\n"
     ]
    }
   ],
   "source": [
    "print('Emergency' in phone_directory, 'White House' in phone_directory)"
   ]
  },
  {
   "cell_type": "markdown",
   "id": "46439ad1-96aa-438a-8087-39f4c6998ab8",
   "metadata": {},
   "source": [
    "7. The len() function returns the number of pairs contained in the directory. For example, the following line outputs 0 to the screen:"
   ]
  },
  {
   "cell_type": "code",
   "execution_count": 4,
   "id": "d4ce6cff-5b63-4e20-8264-ba3097640ca3",
   "metadata": {},
   "outputs": [
    {
     "name": "stdout",
     "output_type": "stream",
     "text": [
      "0\n"
     ]
    }
   ],
   "source": [
    "print(len(empty_dictionary))"
   ]
  },
  {
   "cell_type": "markdown",
   "id": "335a5705-2f15-4b18-ba96-71cbc3641df4",
   "metadata": {},
   "source": [
    "8. Changing a value of the existing key is done by an assignment. For example, the following snippet outputs False to the screen:"
   ]
  },
  {
   "cell_type": "code",
   "execution_count": 5,
   "id": "c72006ea-86da-4577-8516-129d09a5ce78",
   "metadata": {},
   "outputs": [
    {
     "name": "stdout",
     "output_type": "stream",
     "text": [
      "False\n"
     ]
    }
   ],
   "source": [
    "attendance = {'Bob': True}\n",
    "attendance['Bob'] = False\n",
    "print(attendance['Bob'])\n"
   ]
  },
  {
   "cell_type": "markdown",
   "id": "66cb3683-d969-4a2b-8ca8-1a78c93f7f0c",
   "metadata": {},
   "source": [
    "9. Adding a new pair to the dictionary resembles a regular assignment. For example, the following snippet outputs 2 to the screen:"
   ]
  },
  {
   "cell_type": "code",
   "execution_count": 6,
   "id": "3b8cbbb7-403e-4fdb-bb10-e5c8413c4291",
   "metadata": {},
   "outputs": [
    {
     "name": "stdout",
     "output_type": "stream",
     "text": [
      "2\n"
     ]
    }
   ],
   "source": [
    "domains = {'au': 'Australia'}\n",
    "domains['at'] = 'Austria'\n",
    "print(len(domains))\n"
   ]
  },
  {
   "cell_type": "markdown",
   "id": "41d6ccfe-4ace-4ba3-882d-5cc9ac99dd0b",
   "metadata": {},
   "source": [
    "10. Removing a pair from a dictionary is done with the del instruction. For example, the following snippet outputs 0 to the screen:"
   ]
  },
  {
   "cell_type": "code",
   "execution_count": 7,
   "id": "cb6dd647-55a5-4076-8bcb-8f582e21d6b7",
   "metadata": {},
   "outputs": [
    {
     "name": "stdout",
     "output_type": "stream",
     "text": [
      "0\n"
     ]
    }
   ],
   "source": [
    "currencies = {'USD': 'United States dollar'}\n",
    "del currencies['USD']\n",
    "print(len(currencies))"
   ]
  },
  {
   "cell_type": "markdown",
   "id": "9f0d39a4-18f9-4fe7-9f93-af2cf2fc05b6",
   "metadata": {},
   "source": [
    "11. When iterated through by the for loop, the dictionary displays only its keys. For example, the following snippet outputs A B to the screen:"
   ]
  },
  {
   "cell_type": "code",
   "execution_count": 8,
   "id": "22db067b-5607-477c-84a7-ab23d71f5950",
   "metadata": {},
   "outputs": [
    {
     "name": "stdout",
     "output_type": "stream",
     "text": [
      "A B "
     ]
    }
   ],
   "source": [
    "phonetic = {'A': 'Alpha', 'B': 'Bravo'}\n",
    "for key in phonetic:\n",
    "    print(key, end=' ')\n"
   ]
  },
  {
   "cell_type": "markdown",
   "id": "287f454d-4cda-43c9-a4d7-56afe1eedecd",
   "metadata": {},
   "source": [
    "12. The .keys() method returns a list of keys contained in the dictionary. For example, the following snippet outputs A B to the screen:"
   ]
  },
  {
   "cell_type": "code",
   "execution_count": 9,
   "id": "7eac5dce-20ce-4ce0-ab1c-edaa98735076",
   "metadata": {},
   "outputs": [
    {
     "name": "stdout",
     "output_type": "stream",
     "text": [
      "A B "
     ]
    }
   ],
   "source": [
    "phonetic = {'A': 'Alpha', 'B': 'Bravo'}\n",
    "for key in phonetic.keys():\n",
    "    print(key, end=' ')\n"
   ]
  },
  {
   "cell_type": "markdown",
   "id": "d94e9e32-263f-4ff4-a5c1-9317868ff6fc",
   "metadata": {},
   "source": [
    "13. The .values() method returns a list of values contained in the dictionary. For example, the following snippet outputs Alpha Bravo to the screen:"
   ]
  },
  {
   "cell_type": "code",
   "execution_count": 10,
   "id": "efda8ceb-44bd-4ded-a9af-7ec1a7d8561f",
   "metadata": {},
   "outputs": [
    {
     "name": "stdout",
     "output_type": "stream",
     "text": [
      "Alpha Bravo "
     ]
    }
   ],
   "source": [
    "phonetic = {'A': 'Alpha', 'B': 'Bravo'}\n",
    "for value in phonetic.values():\n",
    "    print(value, end=' ')"
   ]
  },
  {
   "cell_type": "markdown",
   "id": "f094d929-0a30-488f-acee-333fd2e1465d",
   "metadata": {},
   "source": [
    "14. The .items() method returns a list of two-element tuples, each filled with key:value pairs. For example, the following snippet outputs ('A', 'Alpha') ('B', 'Bravo') to the screen:\n"
   ]
  },
  {
   "cell_type": "code",
   "execution_count": 11,
   "id": "ee267aa0-f741-43e3-8878-0d0b38ee3e8a",
   "metadata": {},
   "outputs": [
    {
     "name": "stdout",
     "output_type": "stream",
     "text": [
      "('A', 'Alpha') ('B', 'Bravo') "
     ]
    }
   ],
   "source": [
    "phonetic = {'A': 'Alpha', 'B': 'Bravo'}\n",
    "for item in phonetic.items():\n",
    "    print(item, end=' ')\n"
   ]
  },
  {
   "cell_type": "code",
   "execution_count": null,
   "id": "1fa690f6-d237-41c0-8a25-fabf2d750607",
   "metadata": {},
   "outputs": [],
   "source": []
  }
 ],
 "metadata": {
  "kernelspec": {
   "display_name": "Python 3 (ipykernel)",
   "language": "python",
   "name": "python3"
  },
  "language_info": {
   "codemirror_mode": {
    "name": "ipython",
    "version": 3
   },
   "file_extension": ".py",
   "mimetype": "text/x-python",
   "name": "python",
   "nbconvert_exporter": "python",
   "pygments_lexer": "ipython3",
   "version": "3.12.4"
  }
 },
 "nbformat": 4,
 "nbformat_minor": 5
}
