{
 "cells": [
  {
   "cell_type": "markdown",
   "id": "ca72f6d9-2eba-4ee1-96e0-0f9c8483e27d",
   "metadata": {},
   "source": [
    "## Lists and Strings"
   ]
  },
  {
   "cell_type": "markdown",
   "id": "ef58a292-84c5-4cab-9fcc-897f90ec014d",
   "metadata": {},
   "source": [
    "1. If any of the slice's indices exceeds the allowable range, no exception is raised, and the non-existent elements are not taken into consideration. Therefore, it is possible that the resulting slice is an empty list.\n",
    "\n",
    "2. Assigning a list to a list does not copy elements. Such an assignment results in a situation when more than one name identifies the same data aggregate.\n",
    "\n",
    "    For example, the following snippet prints True to the screen:"
   ]
  },
  {
   "cell_type": "code",
   "execution_count": 1,
   "id": "96974233-d23c-449b-bb41-4275d6939784",
   "metadata": {},
   "outputs": [
    {
     "name": "stdout",
     "output_type": "stream",
     "text": [
      "True\n"
     ]
    }
   ],
   "source": [
    "list_a = [1]\n",
    "list_b = list_a\n",
    "list_b[0] = 0\n",
    "print(list_a[0] == list_b[0])"
   ]
  },
  {
   "cell_type": "markdown",
   "id": "6a123ee3-f855-4e6a-b7ab-d0facb17bb8b",
   "metadata": {},
   "source": [
    "    As the slice is a copy of the source list, the following snippet prints False to the screen:"
   ]
  },
  {
   "cell_type": "code",
   "execution_count": 2,
   "id": "62882108-b24c-4c42-924f-5f30d369bc8e",
   "metadata": {},
   "outputs": [
    {
     "name": "stdout",
     "output_type": "stream",
     "text": [
      "False\n"
     ]
    }
   ],
   "source": [
    "list_a = [1]\n",
    "list_b = list_a[:]\n",
    "list_b[0] = 0\n",
    "print(list_a[0] == list_b[0])"
   ]
  },
  {
   "cell_type": "markdown",
   "id": "756247e8-a954-449c-acb5-4a7484c5d8e5",
   "metadata": {},
   "source": [
    "3. The .append(element) method can be used to append an element to the end of an existing list. For example, the following snippet outputs [1] to the screen:"
   ]
  },
  {
   "cell_type": "code",
   "execution_count": 3,
   "id": "87240f96-711b-4f60-afed-73d0dbe0588f",
   "metadata": {},
   "outputs": [
    {
     "name": "stdout",
     "output_type": "stream",
     "text": [
      "[1]\n"
     ]
    }
   ],
   "source": [
    "the_list = []\n",
    "the_list.append(1)\n",
    "print(the_list)"
   ]
  },
  {
   "cell_type": "markdown",
   "id": "74a16895-6282-47c7-9060-89069060a896",
   "metadata": {},
   "source": [
    "4. The .insert(at_index, element) method can be used to insert the element at the at_index of the existing list. For example, the following snippet outputs [2, 1] to the screen:"
   ]
  },
  {
   "cell_type": "code",
   "execution_count": 4,
   "id": "ead17989-da7c-42e7-ab8b-3825786a84ec",
   "metadata": {},
   "outputs": [
    {
     "name": "stdout",
     "output_type": "stream",
     "text": [
      "[2, 1]\n"
     ]
    }
   ],
   "source": [
    "the_list = [1]\n",
    "the_list.insert(0, 2)\n",
    "print(the_list)"
   ]
  },
  {
   "cell_type": "markdown",
   "id": "70f5b314-cf0f-4e55-8580-2a0ee55e40bc",
   "metadata": {},
   "source": [
    "5. The del the_list[index] instruction can be used to remove any of the existing list elements. For example, the following snippet prints [] to the screen:"
   ]
  },
  {
   "cell_type": "code",
   "execution_count": 5,
   "id": "8459a170-38cd-4945-9a97-1ca9f19345ba",
   "metadata": {},
   "outputs": [
    {
     "name": "stdout",
     "output_type": "stream",
     "text": [
      "[]\n"
     ]
    }
   ],
   "source": [
    "the_list = [1]\n",
    "del the_list[0]\n",
    "print(the_list)\n"
   ]
  },
  {
   "cell_type": "markdown",
   "id": "11f89e59-b6cd-47d1-a90f-0e304aa71348",
   "metadata": {},
   "source": [
    "6. The in and not in operators can check whether any value is contained inside the list or not. For example, the following snippet prints True False to the screen:"
   ]
  },
  {
   "cell_type": "code",
   "execution_count": 6,
   "id": "e5005cd4-ad7e-4783-b8b2-22a6e941d3b5",
   "metadata": {},
   "outputs": [
    {
     "name": "stdout",
     "output_type": "stream",
     "text": [
      "True False\n"
     ]
    }
   ],
   "source": [
    "the_list = [1, 'a']\n",
    "print('a' in the_list, 1 not in the_list)\n"
   ]
  },
  {
   "cell_type": "markdown",
   "id": "60d4d3da-d356-46f9-8a89-c16e290dcb09",
   "metadata": {},
   "source": [
    "7. Lists can be iterated through (traversed) by the for loop, which allows the programmer to scan all their elements without the use of explicit indexing. For example, the following snippet prints 1 2 3 to the screen:. "
   ]
  },
  {
   "cell_type": "code",
   "execution_count": 7,
   "id": "1f765603-df07-4c71-a389-6a31ff1d97c1",
   "metadata": {},
   "outputs": [
    {
     "name": "stdout",
     "output_type": "stream",
     "text": [
      "1 2 3 "
     ]
    }
   ],
   "source": [
    "the_list = [1,2,3]\n",
    "for element in the_list:\n",
    "    print(element, end=' ')"
   ]
  },
  {
   "cell_type": "markdown",
   "id": "d4ba3163-9094-470d-8e4a-f0529f21a540",
   "metadata": {},
   "source": [
    "8. List comprehension allows the programmer to construct lists in a compact way. For example, the following snippet prints [1,2,3] to the screen:"
   ]
  },
  {
   "cell_type": "code",
   "execution_count": 8,
   "id": "90ed7a88-f968-4916-81a7-1972b46f5355",
   "metadata": {},
   "outputs": [
    {
     "name": "stdout",
     "output_type": "stream",
     "text": [
      "[1, 2, 3]\n"
     ]
    }
   ],
   "source": [
    "the_list = [x for x in range(1,4)]\n",
    "print(the_list)\n"
   ]
  },
  {
   "cell_type": "markdown",
   "id": "fc75d61c-1fe7-45ec-8edd-352a8d49ac36",
   "metadata": {},
   "source": [
    "9. Strings, like lists, are sequences, and in many contexts they behave like lists, especially when they are indexed and sliced or are arguments of the len() function.\n",
    "\n",
    "10. The in and not in operators can be applied to strings to check if any string is a part of another string. An empty string is considered a part of any string, including an empty one.\n",
    "\n",
    "11. Strings are immutable and their contents cannot be changed."
   ]
  },
  {
   "cell_type": "code",
   "execution_count": null,
   "id": "ba36f369-a415-4848-b8ed-3320fba7d5da",
   "metadata": {},
   "outputs": [],
   "source": []
  }
 ],
 "metadata": {
  "kernelspec": {
   "display_name": "Python 3 (ipykernel)",
   "language": "python",
   "name": "python3"
  },
  "language_info": {
   "codemirror_mode": {
    "name": "ipython",
    "version": 3
   },
   "file_extension": ".py",
   "mimetype": "text/x-python",
   "name": "python",
   "nbconvert_exporter": "python",
   "pygments_lexer": "ipython3",
   "version": "3.12.4"
  }
 },
 "nbformat": 4,
 "nbformat_minor": 5
}
