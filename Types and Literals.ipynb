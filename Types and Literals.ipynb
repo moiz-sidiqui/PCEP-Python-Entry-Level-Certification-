{
 "cells": [
  {
   "cell_type": "markdown",
   "id": "b944e58c-a40c-44e4-a721-e055f20bf1da",
   "metadata": {},
   "source": [
    "## Python basic types and literals"
   ]
  },
  {
   "cell_type": "markdown",
   "id": "c0f57a9b-1b44-4307-9aae-d8ab93b2b861",
   "metadata": {},
   "source": [
    "1. A literal is data whose value is determined by the literal itself. Different kinds of data are coded in different ways, enabling Python (and the human reader of the source code) to determine each literal's type. Knowing each argument's type is crucial to understand what operations are legal, and what results can be returned.\n"
   ]
  },
  {
   "cell_type": "markdown",
   "id": "7c422bec-f8bd-494b-bf31-5b24695a1094",
   "metadata": {},
   "source": [
    "2. Integer (int for short) is a type dedicated to storing integral numbers, that is, numbers that lack fractional parts. For example, 1 is an integral number and 1.5 is not."
   ]
  },
  {
   "cell_type": "markdown",
   "id": "d9b663e3-4b15-4f02-9858-56a45d8d1028",
   "metadata": {},
   "source": [
    "3. Most used integer literals in Python consist of a sequence of decimal digits. Such a sequence cannot include white spaces, but can contain any number of _ (underscore) characters. Note: there must not be more than one underscore between two digits, and the underscore must be neither the last nor the first character of the literal. Underscores don't change a literal's value, and their only role is to improve literal readability. Integer literals can be preceded by any number of - (minus) or + (plus) characters, which are applied to set the literal's sign."
   ]
  },
  {
   "cell_type": "markdown",
   "id": "7432e6fa-14b6-4a0f-a878-17357db8e99b",
   "metadata": {},
   "source": [
    "4. Here are some examples of correct integer literals:\n",
    "1_111 and 1111 encode the same integer value (one thousand one hundred and eleven)\n",
    "-+-3 and -3 denote the same integer value (minus three)\n",
    "+1 and 1 encode the same integer value (one)"
   ]
  },
  {
   "cell_type": "markdown",
   "id": "864b8b97-98d0-4dc8-bc94-57f4f6f169ba",
   "metadata": {},
   "source": [
    "5. Integer literals may be written using radices other than 10:\n",
    "if a literal starts with either a 0o or 0O digraph, it's an octal value (note: it must contain octal digits only!)\n",
    "0o10 encodes an integer value equal to eight.\n",
    "if a literal starts with either a 0x or 0X digraph, it's a hexadecimal value (note: letters from a to f used as hexadecimal digits may be upper- or lower-case)\n",
    "0X11 encodes an integer value equal to seventeen.\n",
    "if a literal starts with either a 0b or 0B digraph, it's a binary value (note: it must contain 0s and 1s only!)\n",
    "0b111 encodes an integer value equal to seven."
   ]
  },
  {
   "cell_type": "markdown",
   "id": "cf8cb50d-c294-48e6-b831-55586cbe41fe",
   "metadata": {},
   "source": [
    "6. Floating point (float for short) is a type designed to store real numbers (in the mathematical sense), that is, numbers whose decimal expansion is or can be non-zero. Such a class of numbers includes fractions (integers don't)."
   ]
  },
  {
   "cell_type": "markdown",
   "id": "c9655d4a-7733-4051-a533-5cd9dd9b1e37",
   "metadata": {},
   "source": [
    "7. Float literals are distinguished from integers by the fact that they contain a dot (.) or the letter e (lower- or upper-case) or both. If the only digits which exist before or after the dot are zeros, they can be omitted. Like integers, floats can be preceded by any number of - and + characters, which determine the number's sign. White spaces are not allowed, while underscores are.\n"
   ]
  },
  {
   "cell_type": "markdown",
   "id": "ee8c31ca-05b6-4ffc-a32c-5b3ad057d433",
   "metadata": {},
   "source": [
    "8. If the float literal contains the letter e, it means that its value is scaled, that is, it's multiplied by a power of 10 while the exponent (which must be an integer!) is placed directly after the letter. A record like this:\n",
    "\n",
    "        mEn\n",
    "\n",
    "        is treated as a value equal to:\n",
    "\n",
    "        m × 10n\n",
    "\n",
    "        This syntax is called scientific notation and is used to denote a number whose absolute value is extremely large (close to infinity) or extremely small (close to zero)."
   ]
  },
  {
   "cell_type": "markdown",
   "id": "511157c8-f17b-49f7-bfbf-8274df46b573",
   "metadata": {},
   "source": [
    "9. Here are some examples of correct float literals:\n",
    "    \n",
    "        1.1 – one and one-tenth\n",
    "   \n",
    "        1.0 (1. for short) – one point zero\n",
    "\n",
    "        0.1 (.1 for short) – one-tenth\n",
    "\n",
    "        1E1 – ten point zero\n",
    "\n",
    "        1e-1 – one-tenth\n",
    "\n",
    "       -1.1E-1 – minus eleven hundredths"
   ]
  },
  {
   "cell_type": "markdown",
   "id": "83f737b3-2d96-46d2-acc4-4d7740d458b9",
   "metadata": {},
   "source": [
    "10. String literals are sequences (including empty ones) of characters (digits, letters, punctuation marks, etc.). There are two kinds of string literal:\n",
    "single-line, when the string itself begins and ends in the same line of code: these literals are enclosed in a pair of ' (apostrophe) or \" (quote) marks.\n",
    "multi-line, when the string may extend to more than one line of code: these literals are enclosed in a pair of trigraphs either \"\"\" or '''\n",
    "strings enclosed inside apostrophes can contain quotes, and vice versa.\n",
    "if you need to put an apostrophe inside an apostrophe-limited string, or a quote inside a quote-limited string, you must precede them with the \\ (backslash) sign, which acts as an escape character (a character which changes the meaning of the character that follows it); some of the most used escape sequences are:\n",
    "\n",
    "        \\\\ – backslash\n",
    "\n",
    "        \\' – apostrophe\n",
    "\n",
    "        \\\" – quote\n",
    "\n",
    "        \\n – newline character\n",
    "\n",
    "        \\r – carriage return character\n",
    "\n",
    "        \\t – horizontal tab character\n"
   ]
  },
  {
   "cell_type": "markdown",
   "id": "cda9c19d-04e9-4c8e-8492-2c0599affc86",
   "metadata": {},
   "source": [
    "11. Here are some examples of correct string literals:\n",
    "    \n",
    "    \"Hello world\"\n",
    "\n",
    "    'Goodbye!'\n",
    "\n",
    "    '' (an empty string)\n",
    "\n",
    "    \"Python's den\"\n",
    "\n",
    "    'Python\\'s den'\n",
    "\n",
    "    \"\"\"Two\n",
    "    lines\"\"\"\n"
   ]
  },
  {
   "cell_type": "markdown",
   "id": "14485cad-bd8c-4b19-a51b-8284c8531eb8",
   "metadata": {},
   "source": [
    "12. Boolean literals denote the only two possible values used by the Boolean algebra – their only acceptable denotations are True and False."
   ]
  },
  {
   "cell_type": "markdown",
   "id": "73662ddb-a67c-4e27-acb3-3fb4bf4bc9af",
   "metadata": {},
   "source": [
    "13. The None literal denotes an empty value and can be used to indicate that a certain item contains no usable value.\n"
   ]
  },
  {
   "cell_type": "code",
   "execution_count": null,
   "id": "f9cbf23f-3675-4cc5-b271-b256fdf212c5",
   "metadata": {},
   "outputs": [],
   "source": []
  }
 ],
 "metadata": {
  "kernelspec": {
   "display_name": "Python 3 (ipykernel)",
   "language": "python",
   "name": "python3"
  },
  "language_info": {
   "codemirror_mode": {
    "name": "ipython",
    "version": 3
   },
   "file_extension": ".py",
   "mimetype": "text/x-python",
   "name": "python",
   "nbconvert_exporter": "python",
   "pygments_lexer": "ipython3",
   "version": "3.12.4"
  }
 },
 "nbformat": 4,
 "nbformat_minor": 5
}
